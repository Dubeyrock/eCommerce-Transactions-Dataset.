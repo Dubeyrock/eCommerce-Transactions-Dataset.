{
 "cells": [
  {
   "cell_type": "code",
   "execution_count": 1,
   "id": "c2088520",
   "metadata": {},
   "outputs": [],
   "source": [
    "# Import necessary libraries\n",
    "import pandas as pd\n",
    "import numpy as np\n",
    "from sklearn.metrics.pairwise import cosine_similarity\n",
    "from sklearn.preprocessing import StandardScaler"
   ]
  },
  {
   "cell_type": "code",
   "execution_count": 2,
   "id": "fb5694ce",
   "metadata": {},
   "outputs": [],
   "source": [
    "# Load the datasets\n",
    "customers = pd.read_csv(\"Customers.csv\")\n",
    "products = pd.read_csv(\"Products.csv\")\n",
    "transactions = pd.read_csv(\"Transactions.csv\")"
   ]
  },
  {
   "cell_type": "code",
   "execution_count": 3,
   "id": "08985d8e",
   "metadata": {},
   "outputs": [],
   "source": [
    "# One-hot encode the 'Region' column in the customers dataset\n",
    "customers_one_hot = pd.get_dummies(customers, columns=[\"Region\"], prefix=\"Region\")\n",
    "\n",
    "# Aggregate transaction data to calculate total purchase value and product preferences per customer\n",
    "transaction_agg = (\n",
    "    transactions.groupby(\"CustomerID\")\n",
    "    .agg(\n",
    "        TotalSpent=(\"TotalValue\", \"sum\"),\n",
    "        TotalTransactions=(\"TransactionID\", \"count\"),\n",
    "    )\n",
    "    .reset_index()\n",
    ")"
   ]
  },
  {
   "cell_type": "code",
   "execution_count": 4,
   "id": "3120f07e",
   "metadata": {},
   "outputs": [],
   "source": [
    "\n",
    "# Merge aggregated transaction data with customer data\n",
    "customer_features = customers_one_hot.merge(\n",
    "    transaction_agg, on=\"CustomerID\", how=\"left\"\n",
    ")"
   ]
  },
  {
   "cell_type": "code",
   "execution_count": 5,
   "id": "f04b9083",
   "metadata": {},
   "outputs": [],
   "source": [
    "# Replace NaN values (e.g., customers with no transactions) with zeros\n",
    "customer_features.fillna(0, inplace=True)"
   ]
  },
  {
   "cell_type": "code",
   "execution_count": 6,
   "id": "e6f2fee7",
   "metadata": {},
   "outputs": [],
   "source": [
    "\n",
    "\n",
    "# Scale numerical features for better similarity calculations\n",
    "scaler = StandardScaler()\n",
    "numerical_features = [\"TotalSpent\", \"TotalTransactions\"]\n",
    "customer_features[numerical_features] = scaler.fit_transform(\n",
    "    customer_features[numerical_features]\n",
    ")\n",
    "\n",
    "# Drop non-feature columns (e.g., CustomerID, Name) for similarity calculations\n",
    "feature_columns = [\n",
    "    col\n",
    "    for col in customer_features.columns\n",
    "    if col not in [\"CustomerID\", \"CustomerName\", \"SignupDate\"]\n",
    "]\n",
    "feature_matrix = customer_features[feature_columns].values"
   ]
  },
  {
   "cell_type": "markdown",
   "id": "03e58d5e",
   "metadata": {},
   "source": [
    "# 2. Calculate Similarity Scores"
   ]
  },
  {
   "cell_type": "code",
   "execution_count": 7,
   "id": "0d7768ab",
   "metadata": {},
   "outputs": [],
   "source": [
    "# Compute pairwise cosine similarity between all customers\n",
    "similarity_matrix = cosine_similarity(feature_matrix)\n",
    "\n",
    "# Convert the similarity matrix to a DataFrame for easy interpretation\n",
    "similarity_df = pd.DataFrame(\n",
    "    similarity_matrix, index=customer_features[\"CustomerID\"], columns=customer_features[\"CustomerID\"]\n",
    ")"
   ]
  },
  {
   "cell_type": "markdown",
   "id": "5717c530",
   "metadata": {},
   "source": [
    "# 3. Generate Lookalike Recommendations"
   ]
  },
  {
   "cell_type": "code",
   "execution_count": 8,
   "id": "d19503a0",
   "metadata": {},
   "outputs": [],
   "source": [
    "# Function to get top N similar customers for a given customer ID\n",
    "def get_top_n_similar_customers(customer_id, n=3):\n",
    "    # Sort by similarity score, exclude the customer themselves\n",
    "    similar_customers = (\n",
    "        similarity_df[customer_id]\n",
    "        .sort_values(ascending=False)\n",
    "        .drop(customer_id)\n",
    "        .head(n)\n",
    "    )\n",
    "    return list(similar_customers.index), list(similar_customers.values)\n",
    "\n",
    "# Generate lookalike recommendations for the first 20 customers (C0001 - C0020)\n",
    "lookalike_map = {}\n",
    "for customer_id in customers[\"CustomerID\"][:20]:\n",
    "    similar_ids, scores = get_top_n_similar_customers(customer_id, n=3)\n",
    "    lookalike_map[customer_id] = list(zip(similar_ids, scores))\n",
    "\n",
    "# Convert the map to a DataFrame for CSV export\n",
    "lookalike_df = pd.DataFrame(\n",
    "    [\n",
    "        {\"CustomerID\": cust_id, \"Lookalikes\": lookalikes}\n",
    "        for cust_id, lookalikes in lookalike_map.items()\n",
    "    ]\n",
    ")\n",
    "\n",
    "# Save the Lookalike map to a CSV file\n",
    "lookalike_df.to_csv(\"Lookalike.csv\", index=False)\n"
   ]
  },
  {
   "cell_type": "markdown",
   "id": "74350806",
   "metadata": {},
   "source": [
    "# 4. Display Results."
   ]
  },
  {
   "cell_type": "code",
   "execution_count": 9,
   "id": "6a236ece",
   "metadata": {},
   "outputs": [
    {
     "name": "stdout",
     "output_type": "stream",
     "text": [
      "Top 3 lookalikes for the first 20 customers:\n",
      "   CustomerID                                         Lookalikes\n",
      "0       C0001  [(C0137, 0.9999291789477135), (C0152, 0.999855...\n",
      "1       C0002  [(C0142, 0.9920726369933641), (C0177, 0.973560...\n",
      "2       C0003  [(C0133, 0.9974501506919937), (C0052, 0.994995...\n",
      "3       C0004  [(C0113, 0.9906184644924116), (C0102, 0.986849...\n",
      "4       C0005  [(C0159, 0.9999316844540107), (C0186, 0.996880...\n",
      "5       C0006  [(C0158, 0.9721823024015926), (C0168, 0.954232...\n",
      "6       C0007  [(C0159, 0.9856429138763982), (C0005, 0.983602...\n",
      "7       C0008  [(C0109, 0.9806650275246662), (C0139, 0.971844...\n",
      "8       C0009  [(C0062, 0.9856823344584039), (C0198, 0.982281...\n",
      "9       C0010  [(C0199, 0.9968329080506292), (C0121, 0.984296...\n",
      "10      C0011  [(C0107, 0.9983885132666855), (C0048, 0.997982...\n",
      "11      C0012  [(C0155, 0.9992813479856844), (C0108, 0.994019...\n",
      "12      C0013  [(C0087, 0.9944857312437704), (C0155, 0.990402...\n",
      "13      C0014  [(C0060, 0.9993546455561516), (C0198, 0.994902...\n",
      "14      C0015  [(C0144, 0.9995067470324408), (C0058, 0.993888...\n",
      "15      C0016  [(C0183, 0.9999215728611632), (C0018, 0.921113...\n",
      "16      C0017  [(C0075, 0.9798142121599286), (C0124, 0.979198...\n",
      "17      C0018  [(C0016, 0.9211133448437205), (C0183, 0.916165...\n",
      "18      C0019  [(C0172, 0.9999839210115643), (C0111, 0.934671...\n",
      "19      C0020  [(C0058, 0.9959529806446508), (C0144, 0.994028...\n"
     ]
    }
   ],
   "source": [
    "print(\"Top 3 lookalikes for the first 20 customers:\")\n",
    "print(lookalike_df.head(20))"
   ]
  },
  {
   "cell_type": "markdown",
   "id": "c635695c",
   "metadata": {},
   "source": [
    "# Feature Engineering:\n",
    "\n",
    "**1.Customer Data:** Region was one-hot encoded to turn categorical data into numerical features.\n",
    "\n",
    "**2.Transaction Data:** Aggregated transaction counts and total spending for each customer.\n",
    "\n",
    "**3.Scaling:** Numerical features were standardized to ensure fair comparison in similarity calculations.\n",
    "\n",
    "## Similarity Calculation:\n",
    "\n",
    "1.Used cosine similarity to measure similarity between customer vectors.\n",
    "\n",
    "2.Generated a similarity matrix to store scores for all customer pairs.\n",
    "\n",
    "## Recommendation:\n",
    "\n",
    "1.Extracted the top 3 most similar customers for each customer, excluding themselves.\n",
    "\n",
    "2.Organized the results in a map format and saved to Lookalike.csv."
   ]
  },
  {
   "cell_type": "markdown",
   "id": "d43fc616",
   "metadata": {},
   "source": [
    "# Evaluation Criteria\n",
    "\n",
    "Model Accuracy: Cosine similarity ensures logical and accurate grouping of similar customers.\n",
    "\n",
    "Quality of Recommendations: Top 3 lookalikes are relevant based on transaction and customer features."
   ]
  },
  {
   "cell_type": "code",
   "execution_count": null,
   "id": "89999b81",
   "metadata": {},
   "outputs": [],
   "source": []
  }
 ],
 "metadata": {
  "kernelspec": {
   "display_name": "Python 3 (ipykernel)",
   "language": "python",
   "name": "python3"
  },
  "language_info": {
   "codemirror_mode": {
    "name": "ipython",
    "version": 3
   },
   "file_extension": ".py",
   "mimetype": "text/x-python",
   "name": "python",
   "nbconvert_exporter": "python",
   "pygments_lexer": "ipython3",
   "version": "3.11.3"
  }
 },
 "nbformat": 4,
 "nbformat_minor": 5
}
